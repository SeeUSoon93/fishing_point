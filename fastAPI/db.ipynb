{
 "cells": [
  {
   "cell_type": "code",
   "execution_count": 7,
   "metadata": {},
   "outputs": [],
   "source": [
    "import sqlite3\n",
    "conn = sqlite3.connect('fishing_db.db')\n",
    "\n",
    "cursor = conn.cursor()"
   ]
  },
  {
   "cell_type": "code",
   "execution_count": 9,
   "metadata": {},
   "outputs": [],
   "source": [
    "cursor.execute(\"\"\"\n",
    "-- 낚시 지점(Fishing Point) 테이블 생성\n",
    "CREATE TABLE IF NOT EXISTS fishingPoint (\n",
    "    pointIdx INTEGER PRIMARY KEY,\n",
    "    pointName TEXT NOT NULL,\n",
    "    pointInfo TEXT,\n",
    "    stateName TEXT,\n",
    "    cityName TEXT,\n",
    "    address TEXT,\n",
    "    xCoordi REAL,\n",
    "    yCoordi REAL,\n",
    "    locationCate TEXT\n",
    ");\n",
    "\"\"\")\n",
    "\n",
    "cursor.execute(\"\"\"\n",
    "-- 어종(Fish Species) 테이블 생성\n",
    "CREATE TABLE IF NOT EXISTS fishSpecies (\n",
    "    fishIdx INTEGER PRIMARY KEY,\n",
    "    fishName TEXT NOT NULL\n",
    ");\n",
    "\"\"\")\n",
    "\n",
    "cursor.execute(\"\"\"\n",
    "-- 어종별 낚시 지점(Fish At Point) 테이블 생성\n",
    "-- 낚시 지점과 어종 간의 다대다 관계를 위한 중간 테이블\n",
    "CREATE TABLE IF NOT EXISTS fishAtPoint (\n",
    "    pointIdx INTEGER,\n",
    "    fishIdx INTEGER,\n",
    "    -- Composite primary key to ensure uniqueness for each pointIdx-fishIdx pair\n",
    "    PRIMARY KEY (pointIdx, fishIdx),\n",
    "    FOREIGN KEY (pointIdx) REFERENCES fishingPoint(pointIdx),\n",
    "    FOREIGN KEY (fishIdx) REFERENCES fishSpecies(fishIdx)\n",
    ");\n",
    "\"\"\")\n",
    "\n",
    "# 변경사항 커밋\n",
    "conn.commit()"
   ]
  },
  {
   "cell_type": "code",
   "execution_count": 10,
   "metadata": {},
   "outputs": [],
   "source": [
    "conn.close()"
   ]
  },
  {
   "cell_type": "code",
   "execution_count": null,
   "metadata": {},
   "outputs": [],
   "source": []
  }
 ],
 "metadata": {
  "kernelspec": {
   "display_name": "Python 3",
   "language": "python",
   "name": "python3"
  },
  "language_info": {
   "codemirror_mode": {
    "name": "ipython",
    "version": 3
   },
   "file_extension": ".py",
   "mimetype": "text/x-python",
   "name": "python",
   "nbconvert_exporter": "python",
   "pygments_lexer": "ipython3",
   "version": "3.11.9"
  }
 },
 "nbformat": 4,
 "nbformat_minor": 2
}
